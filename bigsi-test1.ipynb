{
 "cells": [
  {
   "cell_type": "markdown",
   "metadata": {},
   "source": [
    "# BIGSI Test 1\n",
    "\n",
    "This is a test of the software `bigsi` <https://bigsi.readme.io/>, specifically by following the tutorial <https://bigsi.readme.io/docs/your-first-bigsi>."
   ]
  },
  {
   "cell_type": "markdown",
   "metadata": {},
   "source": [
    "# Step 1\n",
    "\n",
    "Step 1 involves downloading the fastq files and counting kmers. This makes use of the software `fasterq-dump` to download fastq files and `jellyfish` to count kmers. The genomes to download are stored in the file `genomes.txt`."
   ]
  },
  {
   "cell_type": "code",
   "execution_count": 1,
   "metadata": {},
   "outputs": [
    {
     "name": "stdout",
     "output_type": "stream",
     "text": [
      "~/workspace/bigsi-examples/kmers ~/workspace/bigsi-examples\n"
     ]
    }
   ],
   "source": [
    "NOTEBOOK_DIR=`git rev-parse --show-toplevel`\n",
    "\n",
    "cd $NOTEBOOK_DIR\n",
    "rm -rf kmers\n",
    "mkdir kmers\n",
    "pushd kmers"
   ]
  },
  {
   "cell_type": "code",
   "execution_count": 6,
   "metadata": {},
   "outputs": [
    {
     "name": "stdout",
     "output_type": "stream",
     "text": [
      "Working on SRR9842706\n",
      "+ fasterq-dump -s -o SRR9842706.fastq SRR9842706\n",
      "2019-10-01T20:39:43 fasterq-dump.2.10.0 err: fasterq-dump.c fastdump_csra() checking ouput-file 'SRR9842706.fastq' -> RC(rcExe,rcFile,rcPacking,rcName,rcExists)\n",
      "+ jellyfish count -m 4 -s 10M -t 8 --canonical -o SRR9842706_4mers.jf SRR9842706.fastq\n",
      "+ cut -f 1\n",
      "+ jellyfish dump -c -t SRR9842706_4mers.jf\n",
      "+ set +x\n",
      "Done\n"
     ]
    }
   ],
   "source": [
    "kmer_size=4\n",
    "jellyfish_hash_size=10M\n",
    "jellyfish_threads=8\n",
    "\n",
    "for accession in `cat ../genomes.txt`;\n",
    "do\n",
    "    echo \"Working on $accession\"\n",
    "    \n",
    "    fastq_file=${accession}.fastq\n",
    "    jellyfish_file=${accession}_${kmer_size}mers.jf\n",
    "    kmer_file=${accession}_${kmer_size}mers.txt\n",
    "    \n",
    "    set -x\n",
    "    fasterq-dump -s -o ${fastq_file} \"$accession\"\n",
    "    jellyfish count -m ${kmer_size} -s ${jellyfish_hash_size} -t ${jellyfish_threads} --canonical -o ${jellyfish_file} ${fastq_file}\n",
    "    jellyfish dump -c -t ${jellyfish_file} | cut -f 1 > ${kmer_file}\n",
    "    set +x\n",
    "done\n",
    "\n",
    "echo \"Done\""
   ]
  },
  {
   "cell_type": "markdown",
   "metadata": {},
   "source": [
    "Awesome. We've now got files named like `SRR9842706_kmers.txt` in our directory containing the canonical kmers. These should look like:"
   ]
  },
  {
   "cell_type": "code",
   "execution_count": 8,
   "metadata": {},
   "outputs": [
    {
     "name": "stdout",
     "output_type": "stream",
     "text": [
      "AAAA\n",
      "AAAC\n",
      "AAAG\n",
      "AAAT\n"
     ]
    }
   ],
   "source": [
    "head -n 4 SRR9842706_4mers.txt"
   ]
  },
  {
   "cell_type": "markdown",
   "metadata": {},
   "source": [
    "Let's start using these to build the `bigsi` index."
   ]
  },
  {
   "cell_type": "markdown",
   "metadata": {},
   "source": [
    "# Step 2\n",
    "\n",
    "In step 2, we'll look at building the `bigsi` indexes for each of these kmer counts."
   ]
  },
  {
   "cell_type": "code",
   "execution_count": null,
   "metadata": {},
   "outputs": [],
   "source": []
  },
  {
   "cell_type": "code",
   "execution_count": null,
   "metadata": {},
   "outputs": [],
   "source": []
  }
 ],
 "metadata": {
  "kernelspec": {
   "display_name": "Bash",
   "language": "bash",
   "name": "bash"
  },
  "language_info": {
   "codemirror_mode": "shell",
   "file_extension": ".sh",
   "mimetype": "text/x-sh",
   "name": "bash"
  }
 },
 "nbformat": 4,
 "nbformat_minor": 4
}
