{
 "cells": [
  {
   "cell_type": "markdown",
   "metadata": {},
   "source": [
    "# BIGSI Test 1\n",
    "\n",
    "This is a test of the software `bigsi` <https://bigsi.readme.io/>, specifically by following the tutorial <https://bigsi.readme.io/docs/your-first-bigsi>."
   ]
  },
  {
   "cell_type": "markdown",
   "metadata": {},
   "source": [
    "# Step 1\n",
    "\n",
    "Step 1 involves downloading the fastq files and counting kmers. This makes use of the software `fasterq-dump` to download fastq files and `jellyfish` to count kmers. The genomes to download are stored in the file `genomes.txt`."
   ]
  },
  {
   "cell_type": "code",
   "execution_count": 9,
   "metadata": {},
   "outputs": [
    {
     "name": "stdout",
     "output_type": "stream",
     "text": [
      "~/workspace/bigsi-examples/kmers ~/workspace/bigsi-examples ~/workspace/bigsi-examples\n"
     ]
    }
   ],
   "source": [
    "NOTEBOOK_DIR=`git rev-parse --show-toplevel`\n",
    "\n",
    "cd $NOTEBOOK_DIR\n",
    "rm -rf kmers\n",
    "mkdir kmers\n",
    "pushd kmers"
   ]
  },
  {
   "cell_type": "code",
   "execution_count": 11,
   "metadata": {},
   "outputs": [
    {
     "name": "stdout",
     "output_type": "stream",
     "text": [
      "Working on SRR9842706\n",
      "+ fasterq-dump -s -o SRR9842706.fastq SRR9842706\n",
      "2019-10-01T20:56:38 fasterq-dump.2.10.0 err: fasterq-dump.c fastdump_csra() checking ouput-file 'SRR9842706.fastq' -> RC(rcExe,rcFile,rcPacking,rcName,rcExists)\n",
      "+ mccortex31 build -t 16 -k 31 -s SRR9842706 --seqi SRR9842706.fastq SRR9842706.ctx\n",
      "[01 Oct 2019 15:56:38-qaD][cmd] mccortex31 build -t 16 -k 31 -s SRR9842706 --seqi SRR9842706.fastq SRR9842706.ctx\n",
      "[01 Oct 2019 15:56:38-qaD][cwd] /home/CSCScience.ca/apetkau/workspace/bigsi-examples/kmers\n",
      "[01 Oct 2019 15:56:38-qaD][version] mccortex=v0.0.3-610-g400c0e3 zlib=1.2.11 htslib=1.8-17-g699ed53 ASSERTS=ON hash=Lookup3 CHECKS=ON k=3..31\n",
      "[01 Oct 2019 15:56:38-qaD] Saving graph to: SRR9842706.ctx\n",
      "[01 Oct 2019 15:56:38-qaD][sample] 0: SRR9842706\n",
      "[01 Oct 2019 15:56:38-qaD][task] SRR9842706.fastq; FASTQ offset: auto-detect, threshold: off; cut homopolymers: off; remove PCR duplicates: no; colour: 0\n",
      "[01 Oct 2019 15:56:38-qaD][memory] 104 bits per kmer\n",
      "[01 Oct 2019 15:56:38-qaD][memory] graph: 509MB\n",
      "[01 Oct 2019 15:56:38-qaD][memory] total: 509MB of 62.6GB RAM\n",
      "[01 Oct 2019 15:56:38-qaD][file_util.c:168] Fatal Error: File already exists: SRR9842706.ctx\n",
      "+ set +x\n",
      "Done\n"
     ]
    }
   ],
   "source": [
    "kmer_size=31\n",
    "threads=16\n",
    "\n",
    "for accession in `cat ../genomes.txt`;\n",
    "do\n",
    "    echo \"Working on $accession\"\n",
    "    \n",
    "    cortex_out=${accession}.ctx\n",
    "    \n",
    "    set -x\n",
    "    fasterq-dump -s -o ${fastq_file} \"$accession\"\n",
    "    mccortex31 build -t ${threads} -k ${kmer_size} -s ${accession} --seqi ${fastq_file} ${cortex_out}\n",
    "    set +x\n",
    "done\n",
    "\n",
    "echo \"Done\""
   ]
  },
  {
   "cell_type": "markdown",
   "metadata": {},
   "source": [
    "Awesome. We've now got files named like `SRR9842706.ctx` in our directory containing the cortex graph/kmers."
   ]
  },
  {
   "cell_type": "markdown",
   "metadata": {},
   "source": [
    "# Step 2\n",
    "\n",
    "In step 2, we'll look at building the `bigsi` indexes for each of these kmer counts."
   ]
  },
  {
   "cell_type": "code",
   "execution_count": null,
   "metadata": {},
   "outputs": [],
   "source": [
    "mccortex31 build -k 4 -s "
   ]
  },
  {
   "cell_type": "code",
   "execution_count": null,
   "metadata": {},
   "outputs": [],
   "source": []
  }
 ],
 "metadata": {
  "kernelspec": {
   "display_name": "Bash",
   "language": "bash",
   "name": "bash"
  },
  "language_info": {
   "codemirror_mode": "shell",
   "file_extension": ".sh",
   "mimetype": "text/x-sh",
   "name": "bash"
  }
 },
 "nbformat": 4,
 "nbformat_minor": 4
}
