{
 "cells": [
  {
   "cell_type": "markdown",
   "metadata": {},
   "source": [
    "# BIGSI Test 1\n",
    "\n",
    "This is a test of the software `bigsi` <https://bigsi.readme.io/>, specifically by following the tutorial <https://bigsi.readme.io/docs/your-first-bigsi>."
   ]
  },
  {
   "cell_type": "markdown",
   "metadata": {},
   "source": [
    "# Step 1\n",
    "\n",
    "Step 1 involves downloading the fastq files and counting kmers. This makes use of the software `fasterq-dump` to download fastq files and `jellyfish` to count kmers. The genomes to download are stored in the file `genomes.txt`."
   ]
  },
  {
   "cell_type": "code",
   "execution_count": 1,
   "metadata": {},
   "outputs": [],
   "source": [
    "NOTEBOOK_DIR=`git rev-parse --show-toplevel`"
   ]
  },
  {
   "cell_type": "code",
   "execution_count": 2,
   "metadata": {},
   "outputs": [
    {
     "name": "stdout",
     "output_type": "stream",
     "text": [
      "~/workspace/bigsi-examples/kmers ~/workspace/bigsi-examples\n"
     ]
    }
   ],
   "source": [
    "cd $NOTEBOOK_DIR\n",
    "rm -rf kmers\n",
    "mkdir kmers\n",
    "pushd kmers"
   ]
  },
  {
   "cell_type": "code",
   "execution_count": 4,
   "metadata": {},
   "outputs": [
    {
     "name": "stdout",
     "output_type": "stream",
     "text": [
      "Working on SRR9842706\n",
      "+ fasterq-dump -s -o SRR9842706.fastq SRR9842706\n",
      "2019-10-01T22:35:49 fasterq-dump.2.10.0 err: fasterq-dump.c fastdump_csra() checking ouput-file 'SRR9842706.fastq' -> RC(rcExe,rcFile,rcPacking,rcName,rcExists)\n",
      "+ mccortex31 build -t 16 -k 31 -s SRR9842706 --seqi SRR9842706.fastq SRR9842706.ctx\n",
      "+ set +x\n",
      "Working on SRR10140545\n",
      "+ fasterq-dump -s -o SRR10140545.fastq SRR10140545\n",
      "2019-10-01T22:35:52 fasterq-dump.2.10.0 err: fasterq-dump.c fastdump_csra() checking ouput-file 'SRR10140545.fastq' -> RC(rcExe,rcFile,rcPacking,rcName,rcExists)\n",
      "+ mccortex31 build -t 16 -k 31 -s SRR10140545 --seqi SRR10140545.fastq SRR10140545.ctx\n",
      "+ set +x\n",
      "Working on SRR10140517\n",
      "+ fasterq-dump -s -o SRR10140517.fastq SRR10140517\n",
      "2019-10-01T22:35:54 fasterq-dump.2.10.0 err: fasterq-dump.c fastdump_csra() checking ouput-file 'SRR10140517.fastq' -> RC(rcExe,rcFile,rcPacking,rcName,rcExists)\n",
      "+ mccortex31 build -t 16 -k 31 -s SRR10140517 --seqi SRR10140517.fastq SRR10140517.ctx\n",
      "+ set +x\n",
      "Working on SRR10140498\n",
      "+ fasterq-dump -s -o SRR10140498.fastq SRR10140498\n",
      "2019-10-01T22:35:56 fasterq-dump.2.10.0 err: fasterq-dump.c fastdump_csra() checking ouput-file 'SRR10140498.fastq' -> RC(rcExe,rcFile,rcPacking,rcName,rcExists)\n",
      "+ mccortex31 build -t 16 -k 31 -s SRR10140498 --seqi SRR10140498.fastq SRR10140498.ctx\n",
      "+ set +x\n",
      "Done\n"
     ]
    }
   ],
   "source": [
    "kmer_size=31\n",
    "threads=16\n",
    "\n",
    "for accession in `cat ../genomes.txt`;\n",
    "do\n",
    "    echo \"Working on $accession\"\n",
    "    \n",
    "    fastq_file=${accession}.fastq\n",
    "    cortex_out=${accession}.ctx\n",
    "    cortex_log=${accession}_mccortex.log\n",
    "    \n",
    "    set -x\n",
    "    fasterq-dump -s -o ${fastq_file} \"$accession\"\n",
    "    mccortex31 build -t ${threads} -k ${kmer_size} -s ${accession} --seqi ${fastq_file} ${cortex_out} 2> ${cortex_log}.err 1> ${cortex_log}\n",
    "    set +x\n",
    "done\n",
    "\n",
    "echo \"Done\""
   ]
  },
  {
   "cell_type": "markdown",
   "metadata": {},
   "source": [
    "Awesome. We've now got files named like `SRR9842706.ctx` in our directory containing the cortex graph/kmers."
   ]
  },
  {
   "cell_type": "markdown",
   "metadata": {},
   "source": [
    "# Step 2\n",
    "\n",
    "In step 2, we'll look at building the `bigsi` indexes for each of these kmer counts."
   ]
  },
  {
   "cell_type": "code",
   "execution_count": 5,
   "metadata": {},
   "outputs": [
    {
     "name": "stdout",
     "output_type": "stream",
     "text": [
      "~/workspace/bigsi-examples/kmers/bigsi ~/workspace/bigsi-examples/kmers ~/workspace/bigsi-examples\n"
     ]
    }
   ],
   "source": [
    "number_hashes=3\n",
    "m_value=25000000\n",
    "\n",
    "mkdir bigsi\n",
    "pushd bigsi"
   ]
  },
  {
   "cell_type": "markdown",
   "metadata": {},
   "source": [
    "Let's setup the bigsi index configuration."
   ]
  },
  {
   "cell_type": "code",
   "execution_count": 6,
   "metadata": {},
   "outputs": [],
   "source": [
    "cat > berkeleydb.yaml << EOF\n",
    "## Example config using berkeleyDB\n",
    "h: ${number_hashes}\n",
    "k: ${kmer_size}\n",
    "m: ${m_value}\n",
    "storage-engine: berkeleydb\n",
    "storage-config:\n",
    "  filename: bigsi.db\n",
    "  flag: \"c\" ## Change to 'r' for read-only access\n",
    "EOF\n",
    "\n",
    "export BIGSI_CONFIG=berkeleydb.yaml"
   ]
  },
  {
   "cell_type": "markdown",
   "metadata": {},
   "source": [
    "Now, let's construct the blooom filters."
   ]
  },
  {
   "cell_type": "code",
   "execution_count": null,
   "metadata": {},
   "outputs": [
    {
     "name": "stdout",
     "output_type": "stream",
     "text": [
      "+ parallel --jobs 12 -I% bigsi bloom % %.bloom ::: SRR10140498.ctx SRR10140517.ctx SRR10140545.ctx SRR9842706.ctx\n"
     ]
    }
   ],
   "source": [
    "# Link all .ctx files into current directory to make running `parallel` easier\n",
    "ln -s ../*.ctx .\n",
    "\n",
    "set -x\n",
    "parallel --jobs 12 -I% bigsi bloom % %.bloom ::: *.ctx\n",
    "set +x"
   ]
  },
  {
   "cell_type": "code",
   "execution_count": 35,
   "metadata": {},
   "outputs": [
    {
     "name": "stdout",
     "output_type": "stream",
     "text": [
      "+ ls --color=auto\n",
      "berkeleydb.yaml  \u001b[0m\u001b[01;36mSRR9842706.ctx\u001b[0m        test-berkeleydb\n",
      "bigsi.db         \u001b[01;34mSRR9842706.ctx.bloom\u001b[0m\n"
     ]
    },
    {
     "ename": "",
     "evalue": "1",
     "execution_count": 35,
     "output_type": "error",
     "traceback": []
    }
   ],
   "source": [
    "ls"
   ]
  },
  {
   "cell_type": "code",
   "execution_count": 34,
   "metadata": {},
   "outputs": [
    {
     "name": "stdout",
     "output_type": "stream",
     "text": [
      "+ bigsi build SRR9842706.ctx.bloom -s SRR9842706\n",
      "/home/CSCScience.ca/apetkau/miniconda3/envs/bigsi/lib/python3.7/site-packages/bigsi/__main__.py:45: YAMLLoadWarning: calling yaml.load() without Loader=... is deprecated, as the default Loader is unsafe. Please read https://msg.pyyaml.org/load for full details.\n",
      "  config = yaml.load(infile)\n",
      "INFO:bigsi.cmds.build:Building index: 0/1\n",
      "DEBUG:bigsi.cmds.build:Loading /home/CSCScience.ca/apetkau/workspace/bigsi-examples/kmers/bigsi/SRR9842706.ctx.bloom/SRR9842706.ctx.bloom \n",
      "DEBUG:bigsi.graph.bigsi:Insert sample metadata\n",
      "DEBUG:bigsi.graph.bigsi:Create signature index\n",
      "DEBUG:bigsi.graph.index:Transpose bitarrays\n",
      "DEBUG:bigsi.graph.index:Insert rows\n",
      "DEBUG:bigsi.storage.base:set bitarrays\n",
      "Traceback (most recent call last):\n",
      "  File \"/home/CSCScience.ca/apetkau/miniconda3/envs/bigsi/bin/bigsi\", line 10, in <module>\n",
      "    sys.exit(main())\n",
      "  File \"/home/CSCScience.ca/apetkau/miniconda3/envs/bigsi/lib/python3.7/site-packages/bigsi/__main__.py\", line 151, in main\n",
      "    API.cli()\n",
      "  File \"hug/api.py\", line 441, in hug.api.CLIInterfaceAPI.__call__\n",
      "  File \"hug/interface.py\", line 645, in hug.interface.CLI.__call__\n",
      "  File \"hug/interface.py\", line 129, in hug.interface.Interfaces.__call__\n",
      "  File \"/home/CSCScience.ca/apetkau/miniconda3/envs/bigsi/lib/python3.7/site-packages/bigsi/__main__.py\", line 103, in build\n",
      "    max_memory=max_memory_bytes,\n",
      "  File \"/home/CSCScience.ca/apetkau/miniconda3/envs/bigsi/lib/python3.7/site-packages/bigsi/cmds/build.py\", line 61, in build\n",
      "    index = build_main(config, bloomfilter_filepaths, samples)\n",
      "  File \"/home/CSCScience.ca/apetkau/miniconda3/envs/bigsi/lib/python3.7/site-packages/bigsi/cmds/build.py\", line 73, in build_main\n",
      "    return BIGSI.build(config, bloomfilters, samples)\n",
      "  File \"/home/CSCScience.ca/apetkau/miniconda3/envs/bigsi/lib/python3.7/site-packages/bigsi/graph/bigsi.py\", line 135, in build\n",
      "    config.get(\"low_mem_build\", False),\n",
      "  File \"/home/CSCScience.ca/apetkau/miniconda3/envs/bigsi/lib/python3.7/site-packages/bigsi/graph/index.py\", line 38, in create\n",
      "    storage, rows, num_rows=bloomfilter_size, num_cols=len(bloomfilters)\n",
      "  File \"/home/CSCScience.ca/apetkau/miniconda3/envs/bigsi/lib/python3.7/site-packages/bigsi/matrix/bitmatrix.py\", line 21, in create\n",
      "    storage.set_bitarrays(range(num_rows), rows)\n",
      "  File \"/home/CSCScience.ca/apetkau/miniconda3/envs/bigsi/lib/python3.7/site-packages/bigsi/storage/base.py\", line 94, in set_bitarrays\n",
      "    self.batch_set(_keys, (v.tobytes() for v in values))\n",
      "  File \"/home/CSCScience.ca/apetkau/miniconda3/envs/bigsi/lib/python3.7/site-packages/bigsi/storage/base.py\", line 56, in batch_set\n",
      "    self[k] = v\n",
      "  File \"/home/CSCScience.ca/apetkau/miniconda3/envs/bigsi/lib/python3.7/site-packages/bigsi/storage/base.py\", line 16, in __setitem__\n",
      "    self.storage[key] = val\n",
      "  File \"/home/CSCScience.ca/apetkau/miniconda3/envs/bigsi/lib/python3.7/site-packages/bsddb3/__init__.py\", line 248, in __setitem__\n",
      "    _DeadlockWrap(wrapF)  # self.db[key] = value\n",
      "  File \"/home/CSCScience.ca/apetkau/miniconda3/envs/bigsi/lib/python3.7/site-packages/bsddb3/dbutils.py\", line 67, in DeadlockWrap\n",
      "    return function(*_args, **_kwargs)\n",
      "  File \"/home/CSCScience.ca/apetkau/miniconda3/envs/bigsi/lib/python3.7/site-packages/bsddb3/__init__.py\", line 247, in wrapF\n",
      "    self.db[key] = value\n",
      "KeyboardInterrupt\n"
     ]
    }
   ],
   "source": [
    "samples=`for i in *.bloom; do echo -n \"-s \"; basename $i .ctx.bloom; done`\n",
    "set -x\n",
    "bigsi build *.bloom ${samples}\n",
    "set +x"
   ]
  },
  {
   "cell_type": "code",
   "execution_count": 26,
   "metadata": {},
   "outputs": [
    {
     "name": "stdout",
     "output_type": "stream",
     "text": [
      "/home/CSCScience.ca/apetkau/miniconda3/envs/bigsi/lib/python3.7/site-packages/bigsi/__main__.py:45: YAMLLoadWarning: calling yaml.load() without Loader=... is deprecated, as the default Loader is unsafe. Please read https://msg.pyyaml.org/load for full details.\n",
      "  config = yaml.load(infile)\n",
      "{'query': 'GTTTCGTTCTTCCGGCGCGGGCGGTCAGCACGTTAACACCACCGACTCCGCTATCCGTATTACCCACTTGCCGACCGGCATCTTGGTGGAATGCCAGGACGAGC', 'threshold': 1.0, 'results': [{'percent_kmers_found': 100.0, 'num_kmers': 74, 'num_kmers_found': 74, 'sample_name': 'SRR9842706'}], 'citation': 'http://dx.doi.org/10.1038/s41587-018-0010-1'}\n"
     ]
    }
   ],
   "source": [
    "bigsi search GTTTCGTTCTTCCGGCGCGGGCGGTCAGCACGTTAACACCACCGACTCCGCTATCCGTATTACCCACTTGCCGACCGGCATCTTGGTGGAATGCCAGGACGAGC"
   ]
  }
 ],
 "metadata": {
  "kernelspec": {
   "display_name": "Bash",
   "language": "bash",
   "name": "bash"
  },
  "language_info": {
   "codemirror_mode": "shell",
   "file_extension": ".sh",
   "mimetype": "text/x-sh",
   "name": "bash"
  }
 },
 "nbformat": 4,
 "nbformat_minor": 4
}
